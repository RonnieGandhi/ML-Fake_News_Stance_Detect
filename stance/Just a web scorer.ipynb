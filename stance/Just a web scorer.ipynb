{
 "cells": [
  {
   "cell_type": "code",
   "execution_count": 1,
   "metadata": {},
   "outputs": [],
   "source": [
    "import os\n",
    "import sys\n",
    "module_path = os.path.abspath(os.path.join('..'))\n",
    "if module_path not in sys.path:\n",
    "    sys.path.append(module_path)\n",
    "from utils import f_scorer\n",
    "from csv import DictReader"
   ]
  },
  {
   "cell_type": "code",
   "execution_count": 2,
   "metadata": {},
   "outputs": [],
   "source": [
    "pred_path = './checkpoints/2018-06-23_01:25:34/predictions_test.csv'\n",
    "golden_path = './data/test/test_stances.csv'"
   ]
  },
  {
   "cell_type": "code",
   "execution_count": 3,
   "metadata": {},
   "outputs": [],
   "source": [
    "pred = []\n",
    "golden = []\n",
    "with open(pred_path, 'r') as f:\n",
    "    rows = DictReader(f)\n",
    "    for row in rows:\n",
    "        pred.append(row['Stance'])\n",
    "with open(golden_path, 'r') as f:\n",
    "    rows = DictReader(f)\n",
    "    for row in rows:\n",
    "        golden.append(row['Stance'])"
   ]
  },
  {
   "cell_type": "code",
   "execution_count": 4,
   "metadata": {},
   "outputs": [],
   "source": [
    "from sklearn.metrics import classification_report, confusion_matrix"
   ]
  },
  {
   "cell_type": "code",
   "execution_count": 5,
   "metadata": {},
   "outputs": [
    {
     "name": "stdout",
     "output_type": "stream",
     "text": [
      "             precision    recall  f1-score   support\n",
      "\n",
      "      agree       0.24      0.75      0.36      1903\n",
      "   disagree       0.00      0.00      0.00       697\n",
      "    discuss       0.48      0.25      0.33      4464\n",
      "  unrelated       0.99      0.92      0.95     18349\n",
      "\n",
      "avg / total       0.81      0.76      0.77     25413\n",
      "\n"
     ]
    }
   ],
   "source": [
    "print(classification_report(y_pred=pred, y_true=golden))"
   ]
  },
  {
   "cell_type": "code",
   "execution_count": 6,
   "metadata": {},
   "outputs": [
    {
     "name": "stdout",
     "output_type": "stream",
     "text": [
      "[[ 1420     0   427    56]\n",
      " [  515     0   124    58]\n",
      " [ 3201     2  1129   132]\n",
      " [  786     1   686 16876]]\n"
     ]
    }
   ],
   "source": [
    "print(confusion_matrix(y_pred=pred, y_true=golden))"
   ]
  },
  {
   "cell_type": "code",
   "execution_count": 7,
   "metadata": {},
   "outputs": [
    {
     "data": {
      "text/plain": [
       "7835.25"
      ]
     },
     "execution_count": 7,
     "metadata": {},
     "output_type": "execute_result"
    }
   ],
   "source": [
    "f_scorer(y_pred=pred, y_true=golden, labels=True)"
   ]
  }
 ],
 "metadata": {
  "kernelspec": {
   "display_name": "Python 3",
   "language": "python",
   "name": "python3"
  },
  "language_info": {
   "codemirror_mode": {
    "name": "ipython",
    "version": 3
   },
   "file_extension": ".py",
   "mimetype": "text/x-python",
   "name": "python",
   "nbconvert_exporter": "python",
   "pygments_lexer": "ipython3",
   "version": "3.5.2"
  }
 },
 "nbformat": 4,
 "nbformat_minor": 2
}
