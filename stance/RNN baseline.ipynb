{
 "cells": [
  {
   "cell_type": "code",
   "execution_count": 1,
   "metadata": {},
   "outputs": [
    {
     "name": "stderr",
     "output_type": "stream",
     "text": [
      "Using TensorFlow backend.\n"
     ]
    }
   ],
   "source": [
    "import os\n",
    "import sys\n",
    "module_path = os.path.abspath(os.path.join('..'))\n",
    "if module_path not in sys.path:\n",
    "    sys.path.append(module_path)\n",
    "from utils import FeatureExtractor2, Loader, f_scorer"
   ]
  },
  {
   "cell_type": "code",
   "execution_count": 2,
   "metadata": {},
   "outputs": [],
   "source": [
    "train = Loader().load_dataset('./data/train/train_stances.csv', './data/train/train_bodies.csv')"
   ]
  },
  {
   "cell_type": "code",
   "execution_count": 3,
   "metadata": {},
   "outputs": [],
   "source": [
    "test = Loader().load_dataset('./data/test/test_stances.csv', './data/test/test_bodies.csv')"
   ]
  },
  {
   "cell_type": "code",
   "execution_count": 4,
   "metadata": {},
   "outputs": [],
   "source": [
    "params = {\n",
    "    'headline_len':64,\n",
    "    'body_len': 800,\n",
    "    'max_words':150000\n",
    "}"
   ]
  },
  {
   "cell_type": "code",
   "execution_count": 5,
   "metadata": {},
   "outputs": [],
   "source": [
    "fe = FeatureExtractor2(headline_len=params['headline_len'], body_len=params['body_len'], max_words=params['max_words']).fit(train, test)"
   ]
  },
  {
   "cell_type": "code",
   "execution_count": 6,
   "metadata": {},
   "outputs": [],
   "source": [
    "train_headlines,train_bodies, train_stances = fe.transform(train, labels=True)"
   ]
  },
  {
   "cell_type": "code",
   "execution_count": 7,
   "metadata": {},
   "outputs": [
    {
     "data": {
      "text/plain": [
       "((49972, 64), (49972, 800), (49972,))"
      ]
     },
     "execution_count": 7,
     "metadata": {},
     "output_type": "execute_result"
    }
   ],
   "source": [
    "train_headlines.shape, train_bodies.shape, train_stances.shape"
   ]
  },
  {
   "cell_type": "code",
   "execution_count": 8,
   "metadata": {},
   "outputs": [],
   "source": [
    "from keras.layers import Embedding, Input, CuDNNGRU, Bidirectional, Concatenate, Dense, Dropout\n",
    "from keras.models import Model\n",
    "from keras.regularizers import l2"
   ]
  },
  {
   "cell_type": "code",
   "execution_count": 19,
   "metadata": {},
   "outputs": [],
   "source": [
    "def get_model():\n",
    "    headline_input = Input(shape=(params['headline_len'],))\n",
    "    headline_embedding = Embedding(input_dim=params['max_words'], output_dim=64)(headline_input)\n",
    "    headline_encoder = Bidirectional(CuDNNGRU(70))(headline_embedding)\n",
    "    \n",
    "    body_input = Input(shape=(params['body_len'],))\n",
    "    body_embedding = Embedding(input_dim=params['max_words'], output_dim=100)(body_input)\n",
    "    body_encoder = Bidirectional(CuDNNGRU(100))(body_embedding)\n",
    "    \n",
    "    context = Concatenate()([headline_encoder, body_encoder])\n",
    "    dense = Dense(64,activation='relu')(context)\n",
    "    dropout = Dropout(0.3)(dense)\n",
    "    output = Dense(4, activation='softmax')(dropout)\n",
    "    \n",
    "    model = Model(inputs=[headline_input, body_input], outputs=[output])\n",
    "    model.summary()\n",
    "    return model"
   ]
  },
  {
   "cell_type": "code",
   "execution_count": 20,
   "metadata": {},
   "outputs": [
    {
     "name": "stdout",
     "output_type": "stream",
     "text": [
      "__________________________________________________________________________________________________\n",
      "Layer (type)                    Output Shape         Param #     Connected to                     \n",
      "==================================================================================================\n",
      "input_3 (InputLayer)            (None, 64)           0                                            \n",
      "__________________________________________________________________________________________________\n",
      "input_4 (InputLayer)            (None, 800)          0                                            \n",
      "__________________________________________________________________________________________________\n",
      "embedding_3 (Embedding)         (None, 64, 64)       9600000     input_3[0][0]                    \n",
      "__________________________________________________________________________________________________\n",
      "embedding_4 (Embedding)         (None, 800, 100)     15000000    input_4[0][0]                    \n",
      "__________________________________________________________________________________________________\n",
      "bidirectional_3 (Bidirectional) (None, 140)          57120       embedding_3[0][0]                \n",
      "__________________________________________________________________________________________________\n",
      "bidirectional_4 (Bidirectional) (None, 200)          121200      embedding_4[0][0]                \n",
      "__________________________________________________________________________________________________\n",
      "concatenate_2 (Concatenate)     (None, 340)          0           bidirectional_3[0][0]            \n",
      "                                                                 bidirectional_4[0][0]            \n",
      "__________________________________________________________________________________________________\n",
      "dense_3 (Dense)                 (None, 64)           21824       concatenate_2[0][0]              \n",
      "__________________________________________________________________________________________________\n",
      "dropout_2 (Dropout)             (None, 64)           0           dense_3[0][0]                    \n",
      "__________________________________________________________________________________________________\n",
      "dense_4 (Dense)                 (None, 4)            260         dropout_2[0][0]                  \n",
      "==================================================================================================\n",
      "Total params: 24,800,404\n",
      "Trainable params: 24,800,404\n",
      "Non-trainable params: 0\n",
      "__________________________________________________________________________________________________\n"
     ]
    }
   ],
   "source": [
    "model = get_model()"
   ]
  },
  {
   "cell_type": "code",
   "execution_count": 11,
   "metadata": {},
   "outputs": [],
   "source": [
    "model.compile(loss='sparse_categorical_crossentropy', optimizer='adam', metrics=['acc'])"
   ]
  },
  {
   "cell_type": "code",
   "execution_count": 12,
   "metadata": {},
   "outputs": [
    {
     "name": "stdout",
     "output_type": "stream",
     "text": [
      "Train on 39977 samples, validate on 9995 samples\n",
      "Epoch 1/12\n",
      "39977/39977 [==============================] - 114s 3ms/step - loss: 0.9607 - acc: 0.7675 - val_loss: 0.5849 - val_acc: 0.7990\n",
      "Epoch 2/12\n",
      "39977/39977 [==============================] - 113s 3ms/step - loss: 0.5829 - acc: 0.8095 - val_loss: 0.5553 - val_acc: 0.8124\n",
      "Epoch 3/12\n",
      "39977/39977 [==============================] - 113s 3ms/step - loss: 0.5243 - acc: 0.8292 - val_loss: 0.4877 - val_acc: 0.8336\n",
      "Epoch 4/12\n",
      "39977/39977 [==============================] - 113s 3ms/step - loss: 0.4586 - acc: 0.8488 - val_loss: 0.4448 - val_acc: 0.8500\n",
      "Epoch 5/12\n",
      "39977/39977 [==============================] - 113s 3ms/step - loss: 0.4219 - acc: 0.8583 - val_loss: 0.4200 - val_acc: 0.8591\n",
      "Epoch 6/12\n",
      "39977/39977 [==============================] - 113s 3ms/step - loss: 0.3953 - acc: 0.8647 - val_loss: 0.4097 - val_acc: 0.8579\n",
      "Epoch 7/12\n",
      "39977/39977 [==============================] - 113s 3ms/step - loss: 0.3792 - acc: 0.8678 - val_loss: 0.3964 - val_acc: 0.8645\n",
      "Epoch 8/12\n",
      "39977/39977 [==============================] - 113s 3ms/step - loss: 0.3625 - acc: 0.8719 - val_loss: 0.3762 - val_acc: 0.8689\n",
      "Epoch 9/12\n",
      "39977/39977 [==============================] - 113s 3ms/step - loss: 0.3395 - acc: 0.8770 - val_loss: 0.3691 - val_acc: 0.8734\n",
      "Epoch 10/12\n",
      "39977/39977 [==============================] - 113s 3ms/step - loss: 0.3190 - acc: 0.8819 - val_loss: 0.3581 - val_acc: 0.8727\n",
      "Epoch 11/12\n",
      "39977/39977 [==============================] - 113s 3ms/step - loss: 0.3005 - acc: 0.8876 - val_loss: 0.3269 - val_acc: 0.8826\n",
      "Epoch 12/12\n",
      "39977/39977 [==============================] - 113s 3ms/step - loss: 0.2781 - acc: 0.8974 - val_loss: 0.3336 - val_acc: 0.8818\n"
     ]
    }
   ],
   "source": [
    "history = model.fit([train_headlines, train_bodies], train_stances, batch_size=64, epochs=12)"
   ]
  },
  {
   "cell_type": "code",
   "execution_count": 13,
   "metadata": {},
   "outputs": [],
   "source": [
    "test_headlines, test_bodies, test_stances = fe.transform(test, labels=True)"
   ]
  },
  {
   "cell_type": "code",
   "execution_count": 14,
   "metadata": {},
   "outputs": [],
   "source": [
    "import numpy as np"
   ]
  },
  {
   "cell_type": "code",
   "execution_count": 15,
   "metadata": {},
   "outputs": [],
   "source": [
    "preds = model.predict([test_headlines, test_bodies])\n",
    "preds = np.argmax(preds, axis=1)"
   ]
  },
  {
   "cell_type": "code",
   "execution_count": 16,
   "metadata": {},
   "outputs": [
    {
     "name": "stdout",
     "output_type": "stream",
     "text": [
      "4729.25\n"
     ]
    }
   ],
   "source": [
    "print(f_scorer(y_pred = preds, y_true=test_stances))"
   ]
  },
  {
   "cell_type": "code",
   "execution_count": 17,
   "metadata": {},
   "outputs": [],
   "source": [
    "from sklearn.metrics import classification_report, confusion_matrix"
   ]
  },
  {
   "cell_type": "code",
   "execution_count": 18,
   "metadata": {},
   "outputs": [
    {
     "name": "stdout",
     "output_type": "stream",
     "text": [
      "             precision    recall  f1-score   support\n",
      "\n",
      "          0       0.10      0.25      0.14      1903\n",
      "          1       0.20      0.29      0.24      4464\n",
      "          2       0.73      0.57      0.64     18349\n",
      "          3       0.00      0.00      0.00       697\n",
      "\n",
      "avg / total       0.57      0.48      0.52     25413\n",
      "\n",
      "[[  476   366  1061     0]\n",
      " [  725  1283  2456     0]\n",
      " [ 3325  4518 10506     0]\n",
      " [  153   131   413     0]]\n"
     ]
    },
    {
     "name": "stderr",
     "output_type": "stream",
     "text": [
      "/usr/local/lib/python3.5/dist-packages/sklearn/metrics/classification.py:1135: UndefinedMetricWarning: Precision and F-score are ill-defined and being set to 0.0 in labels with no predicted samples.\n",
      "  'precision', 'predicted', average, warn_for)\n"
     ]
    }
   ],
   "source": [
    "print(classification_report(y_pred = preds, y_true=test_stances))\n",
    "print(confusion_matrix(y_pred = preds, y_true=test_stances))"
   ]
  }
 ],
 "metadata": {
  "kernelspec": {
   "display_name": "Python 3",
   "language": "python",
   "name": "python3"
  },
  "language_info": {
   "codemirror_mode": {
    "name": "ipython",
    "version": 3
   },
   "file_extension": ".py",
   "mimetype": "text/x-python",
   "name": "python",
   "nbconvert_exporter": "python",
   "pygments_lexer": "ipython3",
   "version": "3.5.2"
  }
 },
 "nbformat": 4,
 "nbformat_minor": 2
}
