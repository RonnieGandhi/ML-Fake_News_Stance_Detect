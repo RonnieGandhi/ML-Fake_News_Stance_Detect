{
 "cells": [
  {
   "cell_type": "code",
   "execution_count": 1,
   "metadata": {},
   "outputs": [],
   "source": [
    "import os\n",
    "import sys\n",
    "module_path = os.path.abspath(os.path.join('..'))\n",
    "if module_path not in sys.path:\n",
    "    sys.path.append(module_path)\n",
    "from utils import Loader, FeatureExtractor, ID_TO_LABEL, f_scorer"
   ]
  },
  {
   "cell_type": "code",
   "execution_count": 2,
   "metadata": {},
   "outputs": [],
   "source": [
    "loader_train = Loader().load_dataset('./data/train/train_stances.csv', './data/train/train_bodies.csv')"
   ]
  },
  {
   "cell_type": "code",
   "execution_count": 3,
   "metadata": {},
   "outputs": [
    {
     "data": {
      "text/plain": [
       "({'Body ID': 712,\n",
       "  'Headline': \"Police find mass graves with at least '15 bodies' near Mexico town where 43 students disappeared after police clash\",\n",
       "  'Stance': 'unrelated'},\n",
       " 'Danny Boyle is directing the untitled film\\n\\nSeth Rogen is being eyed to play Apple co-founder Steve Wozniak in Sony’s Steve Jobs biopic.\\n\\nDanny Boyle is directing the untitled film, based on Walter Isaacson\\'s book and adapted by Aaron Sorkin, which is one of the most anticipated biopics in recent years.\\n\\nNegotiations have not yet begun, and it’s not even clear if Rogen has an official offer, but the producers — Scott Rudin, Guymon Casady and Mark Gordon — have set their sights on the talent and are in talks.\\n\\nOf course, this may all be for naught as Christian Bale, the actor who is to play Jobs, is still in the midst of closing his deal. Sources say that dealmaking process is in a sensitive stage.\\n\\nInsiders say Boyle will is flying to Los Angeles to meet with actress to play one of the female leads, an assistant to Jobs. Insiders say that Jessica Chastain is one of the actresses on the meeting list.\\n\\nWozniak, known as \"Woz,\" co-founded Apple with Jobs and Ronald Wayne. He first met Jobs when they worked at Atari and later was responsible for creating the early Apple computers.')"
      ]
     },
     "execution_count": 3,
     "metadata": {},
     "output_type": "execute_result"
    }
   ],
   "source": [
    "loader_train.headlines[0], loader_train.id_to_body[int(loader_train.headlines[0]['Body ID'])]"
   ]
  },
  {
   "cell_type": "code",
   "execution_count": 4,
   "metadata": {},
   "outputs": [],
   "source": [
    "loader_test = Loader().load_dataset('./data/test/test_stances.csv', './data/test/test_bodies.csv')"
   ]
  },
  {
   "cell_type": "code",
   "execution_count": 5,
   "metadata": {},
   "outputs": [],
   "source": [
    "fe = FeatureExtractor(5005)\n",
    "train_features, train_stances, valid_features, valid_stances = fe.get_train_fit_vect(loader_train, loader_test)"
   ]
  },
  {
   "cell_type": "code",
   "execution_count": 6,
   "metadata": {},
   "outputs": [
    {
     "data": {
      "text/plain": [
       "9.0255298052456059"
      ]
     },
     "execution_count": 6,
     "metadata": {},
     "output_type": "execute_result"
    }
   ],
   "source": [
    "train_features[0].sum()"
   ]
  },
  {
   "cell_type": "code",
   "execution_count": 7,
   "metadata": {},
   "outputs": [
    {
     "data": {
      "text/plain": [
       "10.2558829302017"
      ]
     },
     "execution_count": 7,
     "metadata": {},
     "output_type": "execute_result"
    }
   ],
   "source": [
    "valid_features[0].sum()"
   ]
  },
  {
   "cell_type": "code",
   "execution_count": 8,
   "metadata": {},
   "outputs": [],
   "source": [
    "test_features, test_stances = fe.transform(loader_test, True)"
   ]
  },
  {
   "cell_type": "code",
   "execution_count": 9,
   "metadata": {},
   "outputs": [
    {
     "data": {
      "text/plain": [
       "12.139425247670783"
      ]
     },
     "execution_count": 9,
     "metadata": {},
     "output_type": "execute_result"
    }
   ],
   "source": [
    "test_features[0].sum()"
   ]
  },
  {
   "cell_type": "code",
   "execution_count": 10,
   "metadata": {},
   "outputs": [],
   "source": [
    "from sklearn.linear_model import LogisticRegression"
   ]
  },
  {
   "cell_type": "code",
   "execution_count": 11,
   "metadata": {},
   "outputs": [],
   "source": [
    "from sklearn.metrics import classification_report,confusion_matrix\n",
    "valid_stances_y = [ID_TO_LABEL[x] for x in valid_stances]\n",
    "test_stances_y = [ID_TO_LABEL[x] for x in test_stances]"
   ]
  },
  {
   "cell_type": "code",
   "execution_count": 12,
   "metadata": {},
   "outputs": [],
   "source": [
    "from sklearn.metrics import f1_score"
   ]
  },
  {
   "cell_type": "code",
   "execution_count": 13,
   "metadata": {},
   "outputs": [],
   "source": [
    "def score(X, y):\n",
    "    pred = model.predict(X)\n",
    "    pred_l = [ID_TO_LABEL[x] for x in pred]\n",
    "    \n",
    "    print(classification_report(y_pred=pred_l, y_true=y))\n",
    "    print(confusion_matrix(y_pred=pred_l, y_true=y))\n",
    "    print('score:{}'.format(f_scorer(y_pred=pred_l, y_true=y, labels=True)))\n",
    "    return f1_score(y_pred=pred_l, y_true=y, average='weighted')"
   ]
  },
  {
   "cell_type": "code",
   "execution_count": 14,
   "metadata": {},
   "outputs": [
    {
     "name": "stdout",
     "output_type": "stream",
     "text": [
      "             precision    recall  f1-score   support\n",
      "\n",
      "      agree       0.74      0.39      0.51       770\n",
      "   disagree       0.29      0.45      0.35       154\n",
      "    discuss       0.81      0.72      0.76      1700\n",
      "  unrelated       0.94      1.00      0.97      7371\n",
      "\n",
      "avg / total       0.89      0.89      0.89      9995\n",
      "\n",
      "[[ 301   89  227  153]\n",
      " [  30   69   35   20]\n",
      " [  76   80 1225  319]\n",
      " [   1    0   32 7338]]\n",
      "score:3563.75\n",
      "             precision    recall  f1-score   support\n",
      "\n",
      "      agree       0.75      0.56      0.65       770\n",
      "   disagree       0.37      0.62      0.46       154\n",
      "    discuss       0.85      0.81      0.83      1700\n",
      "  unrelated       0.97      0.99      0.98      7371\n",
      "\n",
      "avg / total       0.93      0.92      0.92      9995\n",
      "\n",
      "[[ 435   99  181   55]\n",
      " [  33   95   19    7]\n",
      " [ 109   64 1385  142]\n",
      " [   1    1   46 7323]]\n",
      "score:3872.0\n",
      "             precision    recall  f1-score   support\n",
      "\n",
      "      agree       0.82      0.75      0.78       770\n",
      "   disagree       0.44      0.67      0.53       154\n",
      "    discuss       0.91      0.89      0.90      1700\n",
      "  unrelated       0.99      0.99      0.99      7371\n",
      "\n",
      "avg / total       0.95      0.95      0.95      9995\n",
      "\n",
      "[[ 575   89   90   16]\n",
      " [  37  103   10    4]\n",
      " [  90   34 1518   58]\n",
      " [   3    6   49 7313]]\n",
      "score:4111.75\n",
      "             precision    recall  f1-score   support\n",
      "\n",
      "      agree       0.87      0.84      0.85       770\n",
      "   disagree       0.50      0.67      0.57       154\n",
      "    discuss       0.95      0.94      0.94      1700\n",
      "  unrelated       0.99      0.99      0.99      7371\n",
      "\n",
      "avg / total       0.97      0.97      0.97      9995\n",
      "\n",
      "[[ 645   80   32   13]\n",
      " [  41  103    8    2]\n",
      " [  49   16 1598   37]\n",
      " [   8    8   45 7310]]\n",
      "score:4230.0\n",
      "             precision    recall  f1-score   support\n",
      "\n",
      "      agree       0.87      0.86      0.87       770\n",
      "   disagree       0.51      0.61      0.56       154\n",
      "    discuss       0.96      0.95      0.95      1700\n",
      "  unrelated       0.99      0.99      0.99      7371\n",
      "\n",
      "avg / total       0.97      0.97      0.97      9995\n",
      "\n",
      "[[ 663   75   22   10]\n",
      " [  52   94    5    3]\n",
      " [  32    9 1617   42]\n",
      " [  11    6   49 7305]]\n",
      "score:4249.0\n",
      "**********BEST FOUND**********\n",
      "{'C': 100, 'score': 0.96894991696165245}\n"
     ]
    }
   ],
   "source": [
    "C = [0.01,0.1,1,10,100]\n",
    "best_params = {\n",
    "    'score':-1\n",
    "}\n",
    "\n",
    "for c in C:\n",
    "    model = LogisticRegression(C=c, class_weight='balanced').fit(train_features,train_stances)\n",
    "    sc = score(X=valid_features, y=valid_stances_y)\n",
    "    if best_params['score'] < sc:\n",
    "        best_params['score'] = sc\n",
    "        best_params['C'] = c\n",
    "        \n",
    "print(\"**********BEST FOUND**********\")\n",
    "print(best_params)"
   ]
  },
  {
   "cell_type": "code",
   "execution_count": 15,
   "metadata": {},
   "outputs": [],
   "source": [
    "model = LogisticRegression(C=best_params['C']).fit(train_features + valid_features, train_stances + valid_stances)"
   ]
  },
  {
   "cell_type": "code",
   "execution_count": 16,
   "metadata": {},
   "outputs": [
    {
     "name": "stdout",
     "output_type": "stream",
     "text": [
      "             precision    recall  f1-score   support\n",
      "\n",
      "      agree       0.24      0.43      0.31      1903\n",
      "   disagree       0.33      0.00      0.01       697\n",
      "    discuss       0.56      0.49      0.52      4464\n",
      "  unrelated       0.97      0.95      0.96     18349\n",
      "\n",
      "avg / total       0.82      0.81      0.81     25413\n",
      "\n",
      "[[  825     4   924   150]\n",
      " [  300     3   278   116]\n",
      " [ 1974     2  2189   299]\n",
      " [  358     0   532 17459]]\n",
      "score:8252.25\n"
     ]
    },
    {
     "data": {
      "text/plain": [
       "0.8081271503156634"
      ]
     },
     "execution_count": 16,
     "metadata": {},
     "output_type": "execute_result"
    }
   ],
   "source": [
    "score(test_features, test_stances_y)"
   ]
  },
  {
   "cell_type": "code",
   "execution_count": 17,
   "metadata": {},
   "outputs": [],
   "source": [
    "from sklearn.svm import LinearSVC"
   ]
  },
  {
   "cell_type": "code",
   "execution_count": 18,
   "metadata": {},
   "outputs": [
    {
     "name": "stdout",
     "output_type": "stream",
     "text": [
      "             precision    recall  f1-score   support\n",
      "\n",
      "      agree       0.76      0.56      0.65       770\n",
      "   disagree       0.35      0.61      0.45       154\n",
      "    discuss       0.85      0.83      0.84      1700\n",
      "  unrelated       0.98      0.99      0.98      7371\n",
      "\n",
      "avg / total       0.93      0.93      0.92      9995\n",
      "\n",
      "[[ 432  103  184   51]\n",
      " [  34   94   19    7]\n",
      " [ 101   66 1404  129]\n",
      " [   1    2   45 7323]]\n",
      "score:3887.5\n",
      "             precision    recall  f1-score   support\n",
      "\n",
      "      agree       0.82      0.75      0.78       770\n",
      "   disagree       0.45      0.69      0.54       154\n",
      "    discuss       0.91      0.90      0.90      1700\n",
      "  unrelated       0.99      0.99      0.99      7371\n",
      "\n",
      "avg / total       0.96      0.95      0.95      9995\n",
      "\n",
      "[[ 580   88   86   16]\n",
      " [  36  106   10    2]\n",
      " [  90   36 1522   52]\n",
      " [   2    8   48 7313]]\n",
      "score:4122.75\n",
      "             precision    recall  f1-score   support\n",
      "\n",
      "      agree       0.87      0.85      0.86       770\n",
      "   disagree       0.51      0.67      0.58       154\n",
      "    discuss       0.95      0.94      0.95      1700\n",
      "  unrelated       0.99      0.99      0.99      7371\n",
      "\n",
      "avg / total       0.97      0.97      0.97      9995\n",
      "\n",
      "[[ 656   73   29   12]\n",
      " [  42  103    7    2]\n",
      " [  43   15 1606   36]\n",
      " [  13   10   45 7303]]\n",
      "score:4243.0\n",
      "             precision    recall  f1-score   support\n",
      "\n",
      "      agree       0.88      0.86      0.87       770\n",
      "   disagree       0.51      0.61      0.56       154\n",
      "    discuss       0.96      0.95      0.95      1700\n",
      "  unrelated       0.99      0.99      0.99      7371\n",
      "\n",
      "avg / total       0.97      0.97      0.97      9995\n",
      "\n",
      "[[ 664   71   22   13]\n",
      " [  51   94    5    4]\n",
      " [  30   11 1616   43]\n",
      " [  11    8   47 7305]]\n",
      "score:4247.75\n",
      "             precision    recall  f1-score   support\n",
      "\n",
      "      agree       0.87      0.88      0.87       770\n",
      "   disagree       0.55      0.55      0.55       154\n",
      "    discuss       0.95      0.95      0.95      1700\n",
      "  unrelated       0.99      0.99      0.99      7371\n",
      "\n",
      "avg / total       0.97      0.97      0.97      9995\n",
      "\n",
      "[[ 678   57   24   11]\n",
      " [  63   84    5    2]\n",
      " [  31    9 1613   47]\n",
      " [  10    3   62 7296]]\n",
      "score:4246.25\n",
      "**********BEST FOUND**********\n",
      "{'C': 10, 'score': 0.96893345253017638}\n"
     ]
    }
   ],
   "source": [
    "C = [0.01,0.1,1,10,100]\n",
    "best_params = {\n",
    "    'score':-1\n",
    "}\n",
    "\n",
    "for c in C:\n",
    "    model = LinearSVC(C=c, class_weight='balanced').fit(train_features,train_stances)\n",
    "    sc = score(X=valid_features, y=valid_stances_y)\n",
    "    if best_params['score'] < sc:\n",
    "        best_params['score'] = sc\n",
    "        best_params['C'] = c\n",
    "        \n",
    "print(\"**********BEST FOUND**********\")\n",
    "print(best_params)"
   ]
  },
  {
   "cell_type": "code",
   "execution_count": 19,
   "metadata": {},
   "outputs": [],
   "source": [
    "model = LinearSVC(C=best_params['C']).fit(train_features + valid_features, train_stances + valid_stances)"
   ]
  },
  {
   "cell_type": "code",
   "execution_count": 20,
   "metadata": {},
   "outputs": [
    {
     "name": "stdout",
     "output_type": "stream",
     "text": [
      "             precision    recall  f1-score   support\n",
      "\n",
      "      agree       0.22      0.45      0.29      1903\n",
      "   disagree       0.15      0.01      0.01       697\n",
      "    discuss       0.49      0.49      0.49      4464\n",
      "  unrelated       0.97      0.90      0.93     18349\n",
      "\n",
      "avg / total       0.81      0.77      0.78     25413\n",
      "\n",
      "[[  860    13   907   123]\n",
      " [  316     5   274   102]\n",
      " [ 2019    11  2179   255]\n",
      " [  768     4  1053 16524]]\n",
      "score:8060.0\n"
     ]
    },
    {
     "data": {
      "text/plain": [
       "0.78352451131568934"
      ]
     },
     "execution_count": 20,
     "metadata": {},
     "output_type": "execute_result"
    }
   ],
   "source": [
    "score(test_features, test_stances_y)"
   ]
  }
 ],
 "metadata": {
  "kernelspec": {
   "display_name": "Python 3",
   "language": "python",
   "name": "python3"
  },
  "language_info": {
   "codemirror_mode": {
    "name": "ipython",
    "version": 3
   },
   "file_extension": ".py",
   "mimetype": "text/x-python",
   "name": "python",
   "nbconvert_exporter": "python",
   "pygments_lexer": "ipython3",
   "version": "3.5.2"
  }
 },
 "nbformat": 4,
 "nbformat_minor": 2
}
