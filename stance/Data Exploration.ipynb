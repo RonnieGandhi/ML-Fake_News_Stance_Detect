{
 "cells": [
  {
   "cell_type": "code",
   "execution_count": 154,
   "metadata": {},
   "outputs": [],
   "source": [
    "import numpy as np\n",
    "import pandas as pd\n",
    "import matplotlib.pyplot as plt\n",
    "import seaborn as sns\n",
    "\n",
    "%matplotlib inline"
   ]
  },
  {
   "cell_type": "code",
   "execution_count": 155,
   "metadata": {},
   "outputs": [
    {
     "name": "stdout",
     "output_type": "stream",
     "text": [
      "Train shape:  (49972, 3)\n"
     ]
    },
    {
     "data": {
      "text/html": [
       "<div>\n",
       "<style scoped>\n",
       "    .dataframe tbody tr th:only-of-type {\n",
       "        vertical-align: middle;\n",
       "    }\n",
       "\n",
       "    .dataframe tbody tr th {\n",
       "        vertical-align: top;\n",
       "    }\n",
       "\n",
       "    .dataframe thead th {\n",
       "        text-align: right;\n",
       "    }\n",
       "</style>\n",
       "<table border=\"1\" class=\"dataframe\">\n",
       "  <thead>\n",
       "    <tr style=\"text-align: right;\">\n",
       "      <th></th>\n",
       "      <th>Headline</th>\n",
       "      <th>Stance</th>\n",
       "      <th>articleBody</th>\n",
       "    </tr>\n",
       "  </thead>\n",
       "  <tbody>\n",
       "    <tr>\n",
       "      <th>0</th>\n",
       "      <td>Police find mass graves with at least '15 bodi...</td>\n",
       "      <td>unrelated</td>\n",
       "      <td>Danny Boyle is directing the untitled film\\n\\n...</td>\n",
       "    </tr>\n",
       "    <tr>\n",
       "      <th>1</th>\n",
       "      <td>Seth Rogen to Play Apple’s Steve Wozniak</td>\n",
       "      <td>discuss</td>\n",
       "      <td>Danny Boyle is directing the untitled film\\n\\n...</td>\n",
       "    </tr>\n",
       "    <tr>\n",
       "      <th>2</th>\n",
       "      <td>Mexico police find mass grave near site 43 stu...</td>\n",
       "      <td>unrelated</td>\n",
       "      <td>Danny Boyle is directing the untitled film\\n\\n...</td>\n",
       "    </tr>\n",
       "    <tr>\n",
       "      <th>3</th>\n",
       "      <td>Mexico Says Missing Students Not Found In Firs...</td>\n",
       "      <td>unrelated</td>\n",
       "      <td>Danny Boyle is directing the untitled film\\n\\n...</td>\n",
       "    </tr>\n",
       "    <tr>\n",
       "      <th>4</th>\n",
       "      <td>New iOS 8 bug can delete all of your iCloud do...</td>\n",
       "      <td>unrelated</td>\n",
       "      <td>Danny Boyle is directing the untitled film\\n\\n...</td>\n",
       "    </tr>\n",
       "    <tr>\n",
       "      <th>5</th>\n",
       "      <td>Return of the Mac: Seth Rogen in talks to star...</td>\n",
       "      <td>discuss</td>\n",
       "      <td>Danny Boyle is directing the untitled film\\n\\n...</td>\n",
       "    </tr>\n",
       "    <tr>\n",
       "      <th>6</th>\n",
       "      <td>Seth Rogen Is Woz</td>\n",
       "      <td>discuss</td>\n",
       "      <td>Danny Boyle is directing the untitled film\\n\\n...</td>\n",
       "    </tr>\n",
       "    <tr>\n",
       "      <th>7</th>\n",
       "      <td>Mexico finds 4 more graves at site of suspecte...</td>\n",
       "      <td>unrelated</td>\n",
       "      <td>Danny Boyle is directing the untitled film\\n\\n...</td>\n",
       "    </tr>\n",
       "    <tr>\n",
       "      <th>8</th>\n",
       "      <td>Are missing students in mass graves found near...</td>\n",
       "      <td>unrelated</td>\n",
       "      <td>Danny Boyle is directing the untitled film\\n\\n...</td>\n",
       "    </tr>\n",
       "    <tr>\n",
       "      <th>9</th>\n",
       "      <td>Mexico prosecutor: Students not in 1st mass gr...</td>\n",
       "      <td>unrelated</td>\n",
       "      <td>Danny Boyle is directing the untitled film\\n\\n...</td>\n",
       "    </tr>\n",
       "  </tbody>\n",
       "</table>\n",
       "</div>"
      ],
      "text/plain": [
       "                                            Headline     Stance  \\\n",
       "0  Police find mass graves with at least '15 bodi...  unrelated   \n",
       "1           Seth Rogen to Play Apple’s Steve Wozniak    discuss   \n",
       "2  Mexico police find mass grave near site 43 stu...  unrelated   \n",
       "3  Mexico Says Missing Students Not Found In Firs...  unrelated   \n",
       "4  New iOS 8 bug can delete all of your iCloud do...  unrelated   \n",
       "5  Return of the Mac: Seth Rogen in talks to star...    discuss   \n",
       "6                                  Seth Rogen Is Woz    discuss   \n",
       "7  Mexico finds 4 more graves at site of suspecte...  unrelated   \n",
       "8  Are missing students in mass graves found near...  unrelated   \n",
       "9  Mexico prosecutor: Students not in 1st mass gr...  unrelated   \n",
       "\n",
       "                                         articleBody  \n",
       "0  Danny Boyle is directing the untitled film\\n\\n...  \n",
       "1  Danny Boyle is directing the untitled film\\n\\n...  \n",
       "2  Danny Boyle is directing the untitled film\\n\\n...  \n",
       "3  Danny Boyle is directing the untitled film\\n\\n...  \n",
       "4  Danny Boyle is directing the untitled film\\n\\n...  \n",
       "5  Danny Boyle is directing the untitled film\\n\\n...  \n",
       "6  Danny Boyle is directing the untitled film\\n\\n...  \n",
       "7  Danny Boyle is directing the untitled film\\n\\n...  \n",
       "8  Danny Boyle is directing the untitled film\\n\\n...  \n",
       "9  Danny Boyle is directing the untitled film\\n\\n...  "
      ]
     },
     "execution_count": 155,
     "metadata": {},
     "output_type": "execute_result"
    }
   ],
   "source": [
    "train = pd.read_csv('./data/train/train.csv')\n",
    "train = train.drop('Body ID', axis=1) # remove connection ids\n",
    "train_count = train.shape[0]\n",
    "print(\"Train shape: \", train.shape)\n",
    "train[:10]"
   ]
  },
  {
   "cell_type": "code",
   "execution_count": 156,
   "metadata": {},
   "outputs": [
    {
     "data": {
      "text/plain": [
       "Headline       0\n",
       "Stance         0\n",
       "articleBody    0\n",
       "dtype: int64"
      ]
     },
     "execution_count": 156,
     "metadata": {},
     "output_type": "execute_result"
    }
   ],
   "source": [
    "train.isnull().sum()"
   ]
  },
  {
   "cell_type": "markdown",
   "metadata": {},
   "source": [
    "## Count of articles in each class"
   ]
  },
  {
   "cell_type": "code",
   "execution_count": 157,
   "metadata": {},
   "outputs": [
    {
     "name": "stdout",
     "output_type": "stream",
     "text": [
      "unrelated 36545\n",
      "discuss 8909\n",
      "agree 3678\n",
      "disagree 840\n"
     ]
    }
   ],
   "source": [
    "# train[train['Stance'] == \"unrelated\"]\n",
    "grouped_by_class = {}\n",
    "counts = {}\n",
    "\n",
    "def count_classes(X=train, column='Stance'):\n",
    "    classes = X[column].unique()\n",
    "    \n",
    "    for class_ in classes:\n",
    "        articles = X[X[column] == class_]\n",
    "        count = articles.shape[0]\n",
    "        \n",
    "        print(class_, count)\n",
    "        \n",
    "        counts[class_] = count\n",
    "        grouped_by_class[class_] = articles\n",
    "    \n",
    "count_classes()"
   ]
  },
  {
   "cell_type": "code",
   "execution_count": 158,
   "metadata": {},
   "outputs": [
    {
     "data": {
      "image/png": "[encoded data removed]",
      "text/plain": [
       "<matplotlib.figure.Figure at 0x7f8cc2cd9c18>"
      ]
     },
     "metadata": {},
     "output_type": "display_data"
    }
   ],
   "source": [
    "fig1, ax1 = plt.subplots()\n",
    "ax1.pie(counts.values(), labels=counts.keys(), autopct='%1.1f%%',\n",
    "        shadow=True, startangle=180)\n",
    "# Equal aspect ratio ensures that pie is drawn as a circle\n",
    "ax1.axis('equal')\n",
    "plt.tight_layout()\n",
    "plt.show()"
   ]
  },
  {
   "cell_type": "markdown",
   "metadata": {},
   "source": [
    "# Examples from each class"
   ]
  },
  {
   "cell_type": "code",
   "execution_count": 159,
   "metadata": {},
   "outputs": [],
   "source": [
    "def random_examples(X, num=1):\n",
    "    count = X.shape[0]\n",
    "    index = np.random.randint(count)\n",
    "    return X[index: index + num]"
   ]
  },
  {
   "cell_type": "code",
   "execution_count": 160,
   "metadata": {},
   "outputs": [
    {
     "name": "stdout",
     "output_type": "stream",
     "text": [
      "***** unrelated *****\n",
      "Lebanon confirms holding ISIS chief’s kin\n",
      "There's a story currently making the rounds about an Australian man who, upon returning from a trip to Bali, discovered that a spider burrowed under his skin and traveled up to his chest. Freaky? Yes, but it's also not plausible.\n",
      "\n",
      "Rest easy, arachnophobes. You do not have to worry about Charlotte weaving her web beneath your flesh. The supposed story goes like this: Dylan Thomas (a 21-year-old man, not the dead poet) was on vacation in Bali and woke up one morning to discover a red \"trail\" of irritation running from his navel to his chest, a trail that continued to grow longer throughout the day.\n",
      "\n",
      "Thomas says that, after initially being sent home with antihistamines, he returned to the medical center where doctors discovered a tiny tropical spider beneath his skin. Supposedly, they removed the creature through an incision and placed it in a specimen jar. According to Thomas, his doctors speculated that it had entered his skin through an appendectomy scar and just kept moving up his body. Thomas told various news outlets that he believes the spider was there for three days.\n",
      "\n",
      "It's the kind of story that has a lot of people saying, \"NOPE,\" and a lot of arachnologists saying simply, \"No, that didn't happen.\" Thomas may have been told that a spider invaded his flesh, but the arachnologists we spoke to about this story sincerely doubt that one actually did.\n",
      "\n",
      "\"I think this is extremely suspect, unusual, and likely not possible,\" Christopher Buddle, associate professor at McGill University's Department of Natural Resource Sciences, told us in an email. \"Simply put: it is not plausible and I can think of no valid reason why a spider might 'crawl beneath skin through a scar'. The claim that it was 'feeding and moving up through the scar tissue' defies logic and defies what we know about the biology of spiders. I am also sceptical because the 'evidence' (the spider itself) is not presented.\"\n",
      "\n",
      "Dr. Charles E. Griswold, Schlinger Curator of Arachnology (Emeritus) at the California Academy of Sciences, said he couldn't comment on this particular incident, but was similarly skeptical. \"[I]n general this is impossible and there is no reason that a spider would do that,\" he wrote.\n",
      "\n",
      "Could it be that doctors pulled something other than a spider from Thomas' body? Maybe, but we should wait to hear if more information comes out about the specimen. Buddle told us, \"Other arthropods (e.g., ticks/mites/perhaps some insects) could 'possibly' be 'associated' with something like this… perhaps... But certainly not a spider.\"\n",
      "\n",
      "Marie Herberstein, Head of the Department of Biological Sciences at Macquarie University in New South Wales, doesn't fully exclude the possibility that this could be a spider, though she writes, \"I have never heard of any spider to crawl or exist under the skin or integument of any other creature (there are no parasites amongst spiders).\" But she also suspects it may be a different animal. She told us, \"My initial reaction is that this is a mite (also 8-legged) rather than a spider, and mites are renown[ed] for this type of behaviour, such as in scabies. Let's see what the identification brings.\"\n",
      "\n",
      "Top photo: An actual spider from Bali, taken by Lip Kee. CC Attribution-ShareAlike 2.0.\n",
      "\n",
      "**************************************************************************\n",
      "\n",
      "***** discuss *****\n",
      "Audio recording allegedly captures at least 10 shots fired in Michael Brown killing\n",
      "The video texting service Glide has verified the recording played by CNN this week of the purported shots in the Ferguson, Mo., killing of 18-year-old Michael Brown. In an e-mail to the Erik Wemple Blog, Glide head of communications Chaim Haas reports:\n",
      "\n",
      "Because Glide is the only messaging application using streaming video technology, each message is simultaneously recorded and transmitted, so the exact time can be verified to the second. In this case, the video in question was created at 12:02:14 PM CDT on Saturday, August 9th.\n",
      "\n",
      "Glide has also posted a note on its Web site. In a brief chat with the Erik Wemple Blog, Haas said, “The question we are being asked is is this authentic and the answer is absolutely.” Notification to the FBI, said Haas, “is taking place.”\n",
      "\n",
      "The news is big news for CNN, which subjected itself to some doubts about the integrity of the recording. It surfaced the tape on Monday night without having authenticated it. Haas confirms that, even though the service has verified the creation of the tape, that doesn’t mean that the sounds in the background are conclusively those of the Brown shooting.\n",
      "\n",
      "**************************************************************************\n",
      "\n",
      "***** agree *****\n",
      "ISIS Video Shows Execution of David Cawthorne Haines, British Aid Worker\n",
      "UK Prime Minister Cameron confirmed Haines' death and stated that the UK government was working to verify the video.\n",
      "\n",
      "**************************************************************************\n",
      "\n",
      "***** disagree *****\n",
      "Hope Fades for Girls' Release After Boko Haram 'Truce' Breached\n",
      "Nigeria has reached a ceasefire deal that will include the release of kidnapped Nigerian schoolgirls.\n",
      "\n",
      "**************************************************************************\n",
      "\n"
     ]
    }
   ],
   "source": [
    "for stance in grouped_by_class.keys():\n",
    "    print(\"*****\", stance, \"*****\")\n",
    "    example = random_examples(grouped_by_class[stance])\n",
    "    \n",
    "    print(example['Headline'].item())\n",
    "    print(example['articleBody'].item())\n",
    "    \n",
    "    print()\n",
    "    print(\"**************************************************************************\")\n",
    "    print()"
   ]
  },
  {
   "cell_type": "markdown",
   "metadata": {},
   "source": [
    "## Most common words"
   ]
  },
  {
   "cell_type": "code",
   "execution_count": 161,
   "metadata": {},
   "outputs": [],
   "source": [
    "from nltk.corpus import stopwords\n",
    "\n",
    "stop = stopwords.words('english')\n",
    "\n",
    "def most_common_words(stance, num=25):    \n",
    "    words = ' '.join(grouped_by_class[stance]['articleBody']).lower().split()\n",
    "    words_cleaned = [word for word in words if word not in stop]\n",
    "    return pd.Series(words_cleaned).value_counts()[:num]\n"
   ]
  },
  {
   "cell_type": "code",
   "execution_count": 162,
   "metadata": {},
   "outputs": [
    {
     "name": "stdout",
     "output_type": "stream",
     "text": [
      "***** unrelated *****\n",
      "said         62913\n",
      "apple        29851\n",
      "one          28046\n",
      "would        26452\n",
      "told         25163\n",
      "also         24989\n",
      "new          24198\n",
      "state        20493\n",
      "people       20340\n",
      "could        20256\n",
      "said.        20007\n",
      "according    18696\n",
      "watch        18612\n",
      "video        18098\n",
      "islamic      17412\n",
      "last         17062\n",
      "—            16703\n",
      "news         16502\n",
      "man          16489\n",
      "isis         16238\n",
      "first        15890\n",
      "kim          14749\n",
      "two          14454\n",
      "police       14008\n",
      "time         13915\n",
      "dtype: int64\n",
      "\n",
      "***** discuss *****\n",
      "said          20030\n",
      "video          7979\n",
      "islamic        7359\n",
      "one            7268\n",
      "state          7162\n",
      "isis           6928\n",
      "told           6857\n",
      "also           6685\n",
      "would          6404\n",
      "new            6152\n",
      "said.          6002\n",
      "group          5988\n",
      "u.s.           5564\n",
      "could          5515\n",
      "government     5466\n",
      "according      5454\n",
      "american       5106\n",
      "apple          5039\n",
      "police         5017\n",
      "two            4859\n",
      "last           4744\n",
      "boko           4729\n",
      "people         4543\n",
      "man            4529\n",
      "first          4508\n",
      "dtype: int64\n",
      "\n",
      "***** agree *****\n",
      "said         5699\n",
      "one          2831\n",
      "would        2446\n",
      "told         2328\n",
      "also         2219\n",
      "video        2183\n",
      "man          1949\n",
      "people       1825\n",
      "new          1781\n",
      "said.        1771\n",
      "police       1719\n",
      "news         1704\n",
      "islamic      1696\n",
      "state        1661\n",
      "u.s.         1483\n",
      "could        1468\n",
      "last         1460\n",
      "two          1420\n",
      "first        1419\n",
      "time         1368\n",
      "like         1366\n",
      "group        1362\n",
      "—            1340\n",
      "found        1251\n",
      "according    1228\n",
      "dtype: int64\n",
      "\n",
      "***** disagree *****\n",
      "said         1259\n",
      "story         773\n",
      "would         660\n",
      "one           647\n",
      "said.         617\n",
      "told          605\n",
      "also          589\n",
      "like          560\n",
      "thomas        548\n",
      "spider        535\n",
      "news          535\n",
      "video         488\n",
      "people        486\n",
      "says          420\n",
      "could         412\n",
      "new           410\n",
      "man           394\n",
      "—             372\n",
      "according     356\n",
      "made          345\n",
      "first         343\n",
      "even          330\n",
      "last          323\n",
      "media         300\n",
      "meteorite     299\n",
      "dtype: int64\n",
      "\n"
     ]
    }
   ],
   "source": [
    "for stance in grouped_by_class.keys():\n",
    "    print('*****', stance, '*****')\n",
    "    print(most_common_words(stance))\n",
    "    print()"
   ]
  },
  {
   "cell_type": "markdown",
   "metadata": {},
   "source": [
    "# Word counts"
   ]
  },
  {
   "cell_type": "code",
   "execution_count": 163,
   "metadata": {},
   "outputs": [],
   "source": [
    "def word_count(X=train, col='articleBody'):\n",
    "    word_counts = list(map(lambda x: len(x), X[col].str.split(' ')))\n",
    "    return word_counts\n",
    "    \n",
    "def plot_counts(counts):\n",
    "    print('Min Count:', np.min(counts))\n",
    "    print('Mean Count:', np.mean(counts))\n",
    "    print('Max Count:', np.max(counts))\n",
    "    sns.distplot(counts)\n",
    "    plt.show()"
   ]
  },
  {
   "cell_type": "code",
   "execution_count": 164,
   "metadata": {},
   "outputs": [
    {
     "name": "stdout",
     "output_type": "stream",
     "text": [
      "****** unrelated *****\n",
      "Min Count: 8\n",
      "Mean Count: 353.8373785743604\n",
      "Max Count: 2112\n"
     ]
    },
    {
     "data": {
      "image/png": "[encoded data removed]",
      "text/plain": [
       "<matplotlib.figure.Figure at 0x7f8cc2acd3c8>"
      ]
     },
     "metadata": {},
     "output_type": "display_data"
    },
    {
     "name": "stdout",
     "output_type": "stream",
     "text": [
      "\n",
      "****** discuss *****\n",
      "Min Count: 8\n",
      "Mean Count: 391.6171287462117\n",
      "Max Count: 4655\n"
     ]
    },
    {
     "data": {
      "image/png": "[encoded data removed]",
      "text/plain": [
       "<matplotlib.figure.Figure at 0x7f8cc2ca32b0>"
      ]
     },
     "metadata": {},
     "output_type": "display_data"
    },
    {
     "name": "stdout",
     "output_type": "stream",
     "text": [
      "\n",
      "****** agree *****\n",
      "Min Count: 2\n",
      "Mean Count: 334.0372485046221\n",
      "Max Count: 2141\n"
     ]
    },
    {
     "data": {
      "image/png": "[encoded data removed]",
      "text/plain": [
       "<matplotlib.figure.Figure at 0x7f8cc173e1d0>"
      ]
     },
     "metadata": {},
     "output_type": "display_data"
    },
    {
     "name": "stdout",
     "output_type": "stream",
     "text": [
      "\n",
      "****** disagree *****\n",
      "Min Count: 9\n",
      "Mean Count: 360.8654761904762\n",
      "Max Count: 1491\n"
     ]
    },
    {
     "data": {
      "image/png": "[encoded data removed]",
      "text/plain": [
       "<matplotlib.figure.Figure at 0x7f8cc1c96198>"
      ]
     },
     "metadata": {},
     "output_type": "display_data"
    },
    {
     "name": "stdout",
     "output_type": "stream",
     "text": [
      "\n",
      "****** Overall *****\n",
      "Min Count: 2\n",
      "Mean Count: 359.2335707996478\n",
      "Max Count: 4655\n"
     ]
    },
    {
     "data": {
      "image/png": "[encoded data removed]",
      "text/plain": [
       "<matplotlib.figure.Figure at 0x7f8cc14d4208>"
      ]
     },
     "metadata": {},
     "output_type": "display_data"
    },
    {
     "name": "stdout",
     "output_type": "stream",
     "text": [
      "\n"
     ]
    }
   ],
   "source": [
    "for stance in grouped_by_class.keys():\n",
    "    print('******', stance, '*****')\n",
    "    counts = word_count(grouped_by_class[stance])\n",
    "    plot_counts(counts)\n",
    "    print()\n",
    "    \n",
    "print('****** Overall *****')\n",
    "counts_overall = word_count(train)\n",
    "plot_counts(counts_overall)\n",
    "print()"
   ]
  },
  {
   "cell_type": "markdown",
   "metadata": {},
   "source": [
    "# Unique articles"
   ]
  },
  {
   "cell_type": "code",
   "execution_count": 165,
   "metadata": {},
   "outputs": [
    {
     "data": {
      "text/plain": [
       "(1669,)"
      ]
     },
     "execution_count": 165,
     "metadata": {},
     "output_type": "execute_result"
    }
   ],
   "source": [
    "train['articleBody'].unique().shape"
   ]
  },
  {
   "cell_type": "code",
   "execution_count": 166,
   "metadata": {},
   "outputs": [
    {
     "data": {
      "text/plain": [
       "(1648,)"
      ]
     },
     "execution_count": 166,
     "metadata": {},
     "output_type": "execute_result"
    }
   ],
   "source": [
    "train['Headline'].unique().shape"
   ]
  },
  {
   "cell_type": "code",
   "execution_count": 167,
   "metadata": {},
   "outputs": [
    {
     "data": {
      "text/html": [
       "<div>\n",
       "<style scoped>\n",
       "    .dataframe tbody tr th:only-of-type {\n",
       "        vertical-align: middle;\n",
       "    }\n",
       "\n",
       "    .dataframe tbody tr th {\n",
       "        vertical-align: top;\n",
       "    }\n",
       "\n",
       "    .dataframe thead th {\n",
       "        text-align: right;\n",
       "    }\n",
       "</style>\n",
       "<table border=\"1\" class=\"dataframe\">\n",
       "  <thead>\n",
       "    <tr style=\"text-align: right;\">\n",
       "      <th></th>\n",
       "      <th>Headline</th>\n",
       "      <th>Stance</th>\n",
       "      <th>articleBody</th>\n",
       "    </tr>\n",
       "  </thead>\n",
       "  <tbody>\n",
       "    <tr>\n",
       "      <th>45264</th>\n",
       "      <td>Apple Watch Developers Told to Limit Features ...</td>\n",
       "      <td>unrelated</td>\n",
       "      <td>Christian Bale will not be playing Steve Jobs ...</td>\n",
       "    </tr>\n",
       "    <tr>\n",
       "      <th>47612</th>\n",
       "      <td>Apple Watch Developers Told to Limit Features ...</td>\n",
       "      <td>unrelated</td>\n",
       "      <td>An asteroid about 60 feet in diameter missed h...</td>\n",
       "    </tr>\n",
       "    <tr>\n",
       "      <th>49001</th>\n",
       "      <td>Apple Watch Developers Told to Limit Features ...</td>\n",
       "      <td>discuss</td>\n",
       "      <td>Apple is reportedly limiting what Apple Watch ...</td>\n",
       "    </tr>\n",
       "    <tr>\n",
       "      <th>49803</th>\n",
       "      <td>Apple Watch Developers Told to Limit Features ...</td>\n",
       "      <td>discuss</td>\n",
       "      <td>When Apple released the first iPhone, it only ...</td>\n",
       "    </tr>\n",
       "  </tbody>\n",
       "</table>\n",
       "</div>"
      ],
      "text/plain": [
       "                                                Headline     Stance  \\\n",
       "45264  Apple Watch Developers Told to Limit Features ...  unrelated   \n",
       "47612  Apple Watch Developers Told to Limit Features ...  unrelated   \n",
       "49001  Apple Watch Developers Told to Limit Features ...    discuss   \n",
       "49803  Apple Watch Developers Told to Limit Features ...    discuss   \n",
       "\n",
       "                                             articleBody  \n",
       "45264  Christian Bale will not be playing Steve Jobs ...  \n",
       "47612  An asteroid about 60 feet in diameter missed h...  \n",
       "49001  Apple is reportedly limiting what Apple Watch ...  \n",
       "49803  When Apple released the first iPhone, it only ...  "
      ]
     },
     "execution_count": 167,
     "metadata": {},
     "output_type": "execute_result"
    }
   ],
   "source": [
    "train[train['Headline'] == 'Apple Watch Developers Told to Limit Features to Save Battery Life']"
   ]
  },
  {
   "cell_type": "code",
   "execution_count": null,
   "metadata": {},
   "outputs": [],
   "source": []
  }
 ],
 "metadata": {
  "kernelspec": {
   "display_name": "Python 3",
   "language": "python",
   "name": "python3"
  },
  "language_info": {
   "codemirror_mode": {
    "name": "ipython",
    "version": 3
   },
   "file_extension": ".py",
   "mimetype": "text/x-python",
   "name": "python",
   "nbconvert_exporter": "python",
   "pygments_lexer": "ipython3",
   "version": "3.5.2"
  },
  "widgets": {
   "state": {},
   "version": "1.1.2"
  }
 },
 "nbformat": 4,
 "nbformat_minor": 2
}
